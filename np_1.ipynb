{
  "nbformat": 4,
  "nbformat_minor": 0,
  "metadata": {
    "colab": {
      "provenance": [],
      "authorship_tag": "ABX9TyPJHHsXqpEN445PWDAm094P",
      "include_colab_link": true
    },
    "kernelspec": {
      "name": "python3",
      "display_name": "Python 3"
    },
    "language_info": {
      "name": "python"
    }
  },
  "cells": [
    {
      "cell_type": "markdown",
      "metadata": {
        "id": "view-in-github",
        "colab_type": "text"
      },
      "source": [
        "<a href=\"https://colab.research.google.com/github/ruslanbakin/Numpy/blob/main/np_1.ipynb\" target=\"_parent\"><img src=\"https://colab.research.google.com/assets/colab-badge.svg\" alt=\"Open In Colab\"/></a>"
      ]
    },
    {
      "cell_type": "code",
      "execution_count": null,
      "metadata": {
        "id": "WskkYyHOKYUz"
      },
      "outputs": [],
      "source": [
        "#1 Создать новый проект. Импортировать NumPy под именем np\n",
        "\n",
        "import numpy as np\n",
        "import random"
      ]
    },
    {
      "cell_type": "code",
      "source": [
        "arr = np.array([[1,2,3],[1,2,3],[1,2,3]])"
      ],
      "metadata": {
        "id": "4yS5txiufrlD"
      },
      "execution_count": null,
      "outputs": []
    },
    {
      "cell_type": "code",
      "source": [
        "#2 . Создать вектор размера N*10, заполненный нулями\n",
        "\n",
        "N = 2\n",
        "A = np.zeros(N * 10)\n",
        "print(A)"
      ],
      "metadata": {
        "colab": {
          "base_uri": "https://localhost:8080/"
        },
        "id": "qKwksRmmucq1",
        "outputId": "71843432-9ae3-44c5-ed3d-39cd933638ad"
      },
      "execution_count": null,
      "outputs": [
        {
          "output_type": "stream",
          "name": "stdout",
          "text": [
            "[0. 0. 0. 0. 0. 0. 0. 0. 0. 0. 0. 0. 0. 0. 0. 0. 0. 0. 0. 0.]\n"
          ]
        }
      ]
    },
    {
      "cell_type": "code",
      "source": [
        "#3 Создать вектор размера 10, заполненный числом N\n",
        "B = np.full((10),N)\n",
        "print(B)"
      ],
      "metadata": {
        "colab": {
          "base_uri": "https://localhost:8080/"
        },
        "id": "qK04aq_IugIO",
        "outputId": "59cdd0ae-67ff-4401-a1a1-c3df29bd1138"
      },
      "execution_count": null,
      "outputs": [
        {
          "output_type": "stream",
          "name": "stdout",
          "text": [
            "[2 2 2 2 2 2 2 2 2 2]\n"
          ]
        }
      ]
    },
    {
      "cell_type": "code",
      "source": [
        "#4 Создать вектор со значениями от N*5 до N*10\n",
        "B = np.arange(N*5,N*10)\n",
        "print(B)"
      ],
      "metadata": {
        "colab": {
          "base_uri": "https://localhost:8080/"
        },
        "id": "zgCATZhBuj4e",
        "outputId": "4f32d410-e0c4-49cf-a7d1-4c3fd2cbff88"
      },
      "execution_count": null,
      "outputs": [
        {
          "output_type": "stream",
          "name": "stdout",
          "text": [
            "[10 11 12 13 14 15 16 17 18 19]\n"
          ]
        }
      ]
    },
    {
      "cell_type": "code",
      "source": [
        "#5 Создать матрицу N*5xN*5, заполнить любыми числами (обязательноналичие нулей)\n",
        "B = np.full((N*5,N*5), [1,2,0,3,4,5,7,0,3,0])\n",
        "print(B)"
      ],
      "metadata": {
        "colab": {
          "base_uri": "https://localhost:8080/"
        },
        "id": "8sx3HBEQumDU",
        "outputId": "8d9c3c4e-0852-4a39-bf0b-71e82c96dd52"
      },
      "execution_count": null,
      "outputs": [
        {
          "output_type": "stream",
          "name": "stdout",
          "text": [
            "[[1 2 0 3 4 5 7 0 3 0]\n",
            " [1 2 0 3 4 5 7 0 3 0]\n",
            " [1 2 0 3 4 5 7 0 3 0]\n",
            " [1 2 0 3 4 5 7 0 3 0]\n",
            " [1 2 0 3 4 5 7 0 3 0]\n",
            " [1 2 0 3 4 5 7 0 3 0]\n",
            " [1 2 0 3 4 5 7 0 3 0]\n",
            " [1 2 0 3 4 5 7 0 3 0]\n",
            " [1 2 0 3 4 5 7 0 3 0]\n",
            " [1 2 0 3 4 5 7 0 3 0]]\n"
          ]
        }
      ]
    },
    {
      "cell_type": "code",
      "source": [
        "#6 Найти индексы ненулевых элементов в матрице, созданной на прошломшаге\n",
        "nonzero_indices = np.nonzero(B)\n",
        "print(\"Исходная матрица:\")\n",
        "print(B)\n",
        "print(\"Индексы ненулевых элементов:\")\n",
        "index_matrix = np.column_stack(nonzero_indices)\n",
        "for row in index_matrix:\n",
        "    print(row)"
      ],
      "metadata": {
        "colab": {
          "base_uri": "https://localhost:8080/"
        },
        "id": "LupncWDhuqRV",
        "outputId": "a576f329-609e-42c1-8122-03573474ec2f"
      },
      "execution_count": null,
      "outputs": [
        {
          "output_type": "stream",
          "name": "stdout",
          "text": [
            "Исходная матрица:\n",
            "[[1 2 0 3 4 5 7 0 3 0]\n",
            " [1 2 0 3 4 5 7 0 3 0]\n",
            " [1 2 0 3 4 5 7 0 3 0]\n",
            " [1 2 0 3 4 5 7 0 3 0]\n",
            " [1 2 0 3 4 5 7 0 3 0]\n",
            " [1 2 0 3 4 5 7 0 3 0]\n",
            " [1 2 0 3 4 5 7 0 3 0]\n",
            " [1 2 0 3 4 5 7 0 3 0]\n",
            " [1 2 0 3 4 5 7 0 3 0]\n",
            " [1 2 0 3 4 5 7 0 3 0]]\n",
            "Индексы ненулевых элементов:\n",
            "[0 0]\n",
            "[0 1]\n",
            "[0 3]\n",
            "[0 4]\n",
            "[0 5]\n",
            "[0 6]\n",
            "[0 8]\n",
            "[1 0]\n",
            "[1 1]\n",
            "[1 3]\n",
            "[1 4]\n",
            "[1 5]\n",
            "[1 6]\n",
            "[1 8]\n",
            "[2 0]\n",
            "[2 1]\n",
            "[2 3]\n",
            "[2 4]\n",
            "[2 5]\n",
            "[2 6]\n",
            "[2 8]\n",
            "[3 0]\n",
            "[3 1]\n",
            "[3 3]\n",
            "[3 4]\n",
            "[3 5]\n",
            "[3 6]\n",
            "[3 8]\n",
            "[4 0]\n",
            "[4 1]\n",
            "[4 3]\n",
            "[4 4]\n",
            "[4 5]\n",
            "[4 6]\n",
            "[4 8]\n",
            "[5 0]\n",
            "[5 1]\n",
            "[5 3]\n",
            "[5 4]\n",
            "[5 5]\n",
            "[5 6]\n",
            "[5 8]\n",
            "[6 0]\n",
            "[6 1]\n",
            "[6 3]\n",
            "[6 4]\n",
            "[6 5]\n",
            "[6 6]\n",
            "[6 8]\n",
            "[7 0]\n",
            "[7 1]\n",
            "[7 3]\n",
            "[7 4]\n",
            "[7 5]\n",
            "[7 6]\n",
            "[7 8]\n",
            "[8 0]\n",
            "[8 1]\n",
            "[8 3]\n",
            "[8 4]\n",
            "[8 5]\n",
            "[8 6]\n",
            "[8 8]\n",
            "[9 0]\n",
            "[9 1]\n",
            "[9 3]\n",
            "[9 4]\n",
            "[9 5]\n",
            "[9 6]\n",
            "[9 8]\n"
          ]
        }
      ]
    },
    {
      "cell_type": "code",
      "source": [
        "#7 Создать случайный вектор размера N*15 и найти среднее значение всех\n",
        "элементов\n",
        "B = np.random.randint(0, 10, size=N*15)\n",
        "C = sum(B)/len(B)\n",
        "print(B)\n",
        "print(\"Среднее значение:\")\n",
        "print(C)"
      ],
      "metadata": {
        "colab": {
          "base_uri": "https://localhost:8080/"
        },
        "id": "wES6ZhjfurBo",
        "outputId": "be73d0c6-1c17-473a-c8d9-1b7f979e046d"
      },
      "execution_count": null,
      "outputs": [
        {
          "output_type": "stream",
          "name": "stdout",
          "text": [
            "[8 4 7 9 2 4 8 0 5 6 3 8 8 7 7 6 2 4 1 6 5 4 9 8 0 9 1 5 4 9]\n",
            "Среднее значение\n",
            "5.3\n"
          ]
        }
      ]
    },
    {
      "cell_type": "code",
      "source": [
        "#8\n",
        "N = 2\n",
        "B = np.random.randint(10,size =(N*5,N*5,N*5))\n",
        "index_20 = B.shape\n",
        "index_20_3d = np.unravel_index(N*10,index_20)\n",
        "print(index_20_3d)"
      ],
      "metadata": {
        "colab": {
          "base_uri": "https://localhost:8080/"
        },
        "id": "nukIJjjOvIXS",
        "outputId": "af3d7c5f-ef60-424e-d8dd-3f6c117e51a9"
      },
      "execution_count": null,
      "outputs": [
        {
          "output_type": "stream",
          "name": "stdout",
          "text": [
            "(0, 2, 0)\n"
          ]
        }
      ]
    },
    {
      "cell_type": "code",
      "source": [
        "#9\n",
        "N = 2\n",
        "B = np.random.randint(10,size = (N*5,N*3))\n",
        "C = np.random.randint(10,size = (N*3,N*5))\n",
        "result_dot = np.dot(B, C)\n",
        "\n",
        "result_at = B @ C\n",
        "\n",
        "result_dot_1 = B.dot(C)\n",
        "\n",
        "print(\"Результат, используя np.dot:\")\n",
        "print(result_dot)\n",
        "\n",
        "print(\"\\nРезультат, используя @:\")\n",
        "print(result_at)\n",
        "\n",
        "print(\"\\nРезультат, используя dot:\")\n",
        "print(result_dot_1)"
      ],
      "metadata": {
        "colab": {
          "base_uri": "https://localhost:8080/"
        },
        "id": "72hiyx2820FR",
        "outputId": "ebc0bc4c-98d8-429b-b9df-817d67f38d5a"
      },
      "execution_count": null,
      "outputs": [
        {
          "output_type": "stream",
          "name": "stdout",
          "text": [
            "Результат, используя np.dot:\n",
            "[[170 122 129 128  80  89 173 102 100 151]\n",
            " [191 158 137 146 103 132 210  93 100 145]\n",
            " [158 108 100 156  83 128 187  69 133 135]\n",
            " [135 102  94 141  76 112 172 102 127 145]\n",
            " [189 145 131 171 106 148 214  78 150 145]\n",
            " [107  45  70  91  34  43 107  36  66  98]\n",
            " [152  98 107 113  69  82 142  45  93 104]\n",
            " [185 127 134 177  90 121 225 120 142 194]\n",
            " [153 122 111 156  88 126 201  84 129 146]\n",
            " [175 147 158 169 111 123 198  87 199 149]]\n",
            "\n",
            "Результат, используя @:\n",
            "[[170 122 129 128  80  89 173 102 100 151]\n",
            " [191 158 137 146 103 132 210  93 100 145]\n",
            " [158 108 100 156  83 128 187  69 133 135]\n",
            " [135 102  94 141  76 112 172 102 127 145]\n",
            " [189 145 131 171 106 148 214  78 150 145]\n",
            " [107  45  70  91  34  43 107  36  66  98]\n",
            " [152  98 107 113  69  82 142  45  93 104]\n",
            " [185 127 134 177  90 121 225 120 142 194]\n",
            " [153 122 111 156  88 126 201  84 129 146]\n",
            " [175 147 158 169 111 123 198  87 199 149]]\n",
            "\n",
            "Результат, используя dot:\n",
            "[[170 122 129 128  80  89 173 102 100 151]\n",
            " [191 158 137 146 103 132 210  93 100 145]\n",
            " [158 108 100 156  83 128 187  69 133 135]\n",
            " [135 102  94 141  76 112 172 102 127 145]\n",
            " [189 145 131 171 106 148 214  78 150 145]\n",
            " [107  45  70  91  34  43 107  36  66  98]\n",
            " [152  98 107 113  69  82 142  45  93 104]\n",
            " [185 127 134 177  90 121 225 120 142 194]\n",
            " [153 122 111 156  88 126 201  84 129 146]\n",
            " [175 147 158 169 111 123 198  87 199 149]]\n"
          ]
        }
      ]
    },
    {
      "cell_type": "code",
      "source": [
        "#10\n",
        "B = np.arange(N*5,N*10)\n",
        "print(B)\n",
        "C = np.sort(B)[::-1]\n",
        "print(C)"
      ],
      "metadata": {
        "colab": {
          "base_uri": "https://localhost:8080/"
        },
        "id": "KcJ0NhL19Dh8",
        "outputId": "f85cd409-adb9-4485-a85c-3f89352fc1b3"
      },
      "execution_count": null,
      "outputs": [
        {
          "output_type": "stream",
          "name": "stdout",
          "text": [
            "[10 11 12 13 14 15 16 17 18 19]\n",
            "[19 18 17 16 15 14 13 12 11 10]\n"
          ]
        }
      ]
    },
    {
      "cell_type": "code",
      "source": [
        "#11\n",
        "import numpy as np\n",
        "\n",
        "def generate_arrays(size):\n",
        "    array1 = np.random.randint(0, 10, size)\n",
        "    array2 = np.random.randint(0, 10, size)\n",
        "    return array1, array2\n",
        "\n",
        "def check_arrays(array1, array2):\n",
        "    return np.array_equal(array1, array2)\n",
        "\n",
        "def manual_edit(array, index):\n",
        "    try:\n",
        "        new_value = int(input(f\"Введите новое значение для элемента с индексом {index}: \"))\n",
        "        array[index] = new_value\n",
        "        print(\"Массив после ручной правки:\", array)\n",
        "    except ValueError:\n",
        "        print(\"Ошибка: Введите целое число.\")\n",
        "\n",
        "\n",
        "arr1, arr2 = generate_arrays(5)\n",
        "\n",
        "print(\"Array 1:\", arr1)\n",
        "print(\"Array 2:\", arr2)\n",
        "\n",
        "if check_arrays(arr1, arr2):\n",
        "    print(\"Массивы одинаковы.\")\n",
        "else:\n",
        "    print(\"Массивы различны.\")\n",
        "\n",
        "index_to_edit = int(input(\"Введите индекс элемента для ручной правки: \"))\n",
        "manual_edit(arr1, index_to_edit)\n",
        "\n",
        "if check_arrays(arr1, arr2):\n",
        "    print(\"Массивы после ручной правки остаются одинаковыми.\")\n",
        "else:\n",
        "    print(\"Массивы после ручной правки различны.\")\n",
        "\n",
        "\n"
      ],
      "metadata": {
        "id": "OOC165UZ-Fx-",
        "colab": {
          "base_uri": "https://localhost:8080/"
        },
        "outputId": "034fafce-1265-4965-c6a8-19af10137831"
      },
      "execution_count": null,
      "outputs": [
        {
          "output_type": "stream",
          "name": "stdout",
          "text": [
            "Array 1: [0 7 8 8 3]\n",
            "Array 2: [8 8 6 5 4]\n",
            "Массивы различны.\n",
            "Введите индекс элемента для ручной правки: 3\n",
            "Введите новое значение для элемента с индексом 3: 89\n",
            "Массив после ручной правки: [ 0  7  8 89  3]\n",
            "Массивы после ручной правки различны.\n"
          ]
        }
      ]
    },
    {
      "cell_type": "code",
      "source": [
        "#12\n",
        "N = 2\n",
        "A = np.random.randint(0, 10, size=N*15)\n",
        "\n",
        "sred = np.mean(A)\n",
        "\n",
        "print(A)\n",
        "print(f'Среднее значение составляет: {sred}')\n",
        "\n",
        "max_index = np.argmax(A)\n",
        "A[max_index] = 0\n",
        "\n",
        "print(f'Max был {np.max(A)} теперь: 0')\n",
        "print(A)"
      ],
      "metadata": {
        "colab": {
          "base_uri": "https://localhost:8080/"
        },
        "id": "XcRejwT1AGhB",
        "outputId": "c812db94-aa41-4a07-efdf-1d70cc09c7c6"
      },
      "execution_count": null,
      "outputs": [
        {
          "output_type": "stream",
          "name": "stdout",
          "text": [
            "[2 7 2 5 0 2 2 4 7 2 6 4 8 7 9 2 3 9 6 4 4 0 5 0 1 7 8 0 6 7]\n",
            "Среднее значение составляет: 4.3\n",
            "Max был 9 теперь: 0\n",
            "[2 7 2 5 0 2 2 4 7 2 6 4 8 7 0 2 3 9 6 4 4 0 5 0 1 7 8 0 6 7]\n"
          ]
        }
      ]
    },
    {
      "cell_type": "code",
      "source": [
        "#13\n",
        "N = 2\n",
        "A = np.random.randint(10, size = N * 15)\n",
        "print(A)\n",
        "index = (np.abs(A - N).argmin())\n",
        "print(f'Ближайшие число из массива к значению {N} = {A[index]}')"
      ],
      "metadata": {
        "colab": {
          "base_uri": "https://localhost:8080/"
        },
        "id": "1p2BYY4pH-qL",
        "outputId": "8447e794-27d0-41b0-991e-e11a27d2ec97"
      },
      "execution_count": null,
      "outputs": [
        {
          "output_type": "stream",
          "name": "stdout",
          "text": [
            "[5 5 7 4 0 7 8 9 9 0 5 0 7 3 1 4 3 0 8 5 8 6 2 4 1 3 7 0 8 6]\n",
            "Ближайшие число из массива к значению 2 = 2\n"
          ]
        }
      ]
    },
    {
      "cell_type": "code",
      "source": [
        "#14\n",
        "mean = 0\n",
        "std = 1\n",
        "size = 10\n",
        "gaussian_array = np.random.normal(mean, std, size)\n",
        "print(gaussian_array)\n"
      ],
      "metadata": {
        "colab": {
          "base_uri": "https://localhost:8080/"
        },
        "id": "fPRK7WzaIczb",
        "outputId": "adf4fb5e-edd1-4afc-a67d-9f5dad8d0fa2"
      },
      "execution_count": null,
      "outputs": [
        {
          "output_type": "stream",
          "name": "stdout",
          "text": [
            "[-0.42216768  1.2915401  -0.97213028 -2.36182601  1.73242037  1.7585969\n",
            " -3.25148064 -0.28347138 -0.32529791 -0.38373636]\n"
          ]
        }
      ]
    },
    {
      "cell_type": "code",
      "source": [
        "#15\n",
        "def diagonal_elements_product(matrix1, matrix2):\n",
        "\n",
        "    if matrix1.shape[1] != matrix2.shape[0]:\n",
        "        raise ValueError(\"Нельзя умножить матрицы с данными размерами\")\n",
        "\n",
        "    product_matrix = np.dot(matrix1, matrix2)\n",
        "\n",
        "    diagonal_elements = np.diagonal(product_matrix)\n",
        "\n",
        "    return diagonal_elements\n",
        "\n",
        "matrix_a = np.array([[5, 2], [3, 6]])\n",
        "matrix_b = np.array([[8, 6], [2, 1]])\n",
        "\n",
        "result = diagonal_elements_product(matrix_a, matrix_b)\n",
        "print(\"Диагональные элементы произведения матриц:\")\n",
        "print(result)"
      ],
      "metadata": {
        "colab": {
          "base_uri": "https://localhost:8080/"
        },
        "id": "DNi5BC2pJ61y",
        "outputId": "47ea50dd-ddb6-4ec9-9340-48fb57d78605"
      },
      "execution_count": null,
      "outputs": [
        {
          "output_type": "stream",
          "name": "stdout",
          "text": [
            "Диагональные элементы произведения матриц:\n",
            "[44 24]\n"
          ]
        }
      ]
    },
    {
      "cell_type": "code",
      "source": [
        "#16\n",
        "N = 2\n",
        "B = np.random.randint(10,size=(N * 5,N * 5))\n",
        "\n",
        "C = B.flatten()\n",
        "\n",
        "most_common_value = np.bincount(C).argmax()\n",
        "least_common_value = np.bincount(C).argmin()\n",
        "\n",
        "most_common_value = np.bincount(C).argmax()\n",
        "least_common_value = np.bincount(C).argmin()\n",
        "\n",
        "print(f\"Наиболее часто встречающееся значение: {most_common_value}\")\n",
        "print(f\"Наименее часто встречающееся значение: {least_common_value}\")"
      ],
      "metadata": {
        "colab": {
          "base_uri": "https://localhost:8080/"
        },
        "id": "sledPEdMLQAa",
        "outputId": "eaa9a09c-1352-43d7-a356-4836e5ea3885"
      },
      "execution_count": null,
      "outputs": [
        {
          "output_type": "stream",
          "name": "stdout",
          "text": [
            "Наиболее часто встречающееся значение: 7\n",
            "Наименее часто встречающееся значение: 2\n"
          ]
        }
      ]
    },
    {
      "cell_type": "code",
      "source": [
        "#17\n",
        "N = 2\n",
        "array = np.array([1, 8, 3, 7, 2, 5, 6, 4])\n",
        "\n",
        "\n",
        "A = array[np.argpartition(-array, N)[:N]]\n",
        "\n",
        "B = array[np.argpartition(array, N)[:N]]\n",
        "\n",
        "print(f\"Исходный массив: {array}\")\n",
        "print(f\"{N} Наибольших значения: {A}\")\n",
        "print(f\"{N} Наименьших значения: {B}\")"
      ],
      "metadata": {
        "colab": {
          "base_uri": "https://localhost:8080/"
        },
        "id": "BQOWj5qMPUyG",
        "outputId": "caf8b12d-8ebe-42bd-b635-4ba2c1b17469"
      },
      "execution_count": null,
      "outputs": [
        {
          "output_type": "stream",
          "name": "stdout",
          "text": [
            "Исходный массив: [1 8 3 7 2 5 6 4]\n",
            "2 Наибольших значения: [8 7]\n",
            "2 Наименьших значения: [1 2]\n"
          ]
        }
      ]
    },
    {
      "cell_type": "code",
      "source": [
        "# 18\n",
        "import numpy as np\n",
        "\n",
        "N = 2\n",
        "A = np.random.randint(0, 2, size=(N, N*2))\n",
        "print(\"Исходная матрица A:\")\n",
        "print(A)\n",
        "row_zeros = np.sum(A == 0, axis=1)\n",
        "\n",
        "\n",
        "col_zeros = np.sum(A == 0, axis=0)\n",
        "\n",
        "\n",
        "result = np.zeros((N+1, N*2+1), dtype=int)\n",
        "\n",
        "\n",
        "result[:N, :N*2] = A\n",
        "result[:N, N*2] = row_zeros\n",
        "\n",
        "\n",
        "result[N, :N*2] = col_zeros\n",
        "result[N, N*2] = np.sum(col_zeros)\n",
        "print(\"\\nРезультат обработки:\")\n",
        "print(result)"
      ],
      "metadata": {
        "colab": {
          "base_uri": "https://localhost:8080/"
        },
        "id": "eh9ByikApVh_",
        "outputId": "5947ddb3-ce85-4172-e437-4473a607e4e1"
      },
      "execution_count": null,
      "outputs": [
        {
          "output_type": "stream",
          "name": "stdout",
          "text": [
            "Исходная матрица A:\n",
            "[[1 0 1 1]\n",
            " [0 1 1 1]]\n",
            "\n",
            "Результат обработки:\n",
            "[[1 0 1 1 1]\n",
            " [0 1 1 1 1]\n",
            " [1 1 0 0 2]]\n"
          ]
        }
      ]
    },
    {
      "cell_type": "code",
      "source": [
        "import numpy as np\n",
        "\n",
        "\n",
        "arr = np.array([2, 7, 1, 9, 5, 6])\n",
        "\n",
        "# Находим индекс максимального элемента\n",
        "i = np.argmax(arr)\n",
        "\n",
        "# Новое значение, на которое вы хотите заменить максимальный элемент\n",
        "new_value = 10\n",
        "\n",
        "# Заменяем максимальный элемент на новое значение\n",
        "arr[i] = new_value\n",
        "\n",
        "# Выводим результат\n",
        "print(\"Массив после замены:\", arr)"
      ],
      "metadata": {
        "colab": {
          "base_uri": "https://localhost:8080/"
        },
        "id": "3A2ALs51fts7",
        "outputId": "3b725800-e7ff-428f-8a43-fdb8c8771cf4"
      },
      "execution_count": null,
      "outputs": [
        {
          "output_type": "stream",
          "name": "stdout",
          "text": [
            "Массив после замены: [ 2  7  1 10  5  6]\n"
          ]
        }
      ]
    }
  ]
}